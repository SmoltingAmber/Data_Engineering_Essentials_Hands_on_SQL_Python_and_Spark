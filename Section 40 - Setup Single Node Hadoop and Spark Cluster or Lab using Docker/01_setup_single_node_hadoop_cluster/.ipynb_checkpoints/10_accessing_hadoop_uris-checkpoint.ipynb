{
 "cells": [
  {
   "cell_type": "markdown",
   "metadata": {},
   "source": [
    "## Accessing Hadoop URIs\n",
    "\n",
    "As part of Hadoop setup, we can get few web based URIs which will help us accessing files in HDFS as well as applications submitted using YARN.\n",
    "* HDFS URI\n",
    "* Resource Manager URI\n",
    "* Map Reduce Job History Server URI"
   ]
  }
 ],
 "metadata": {
  "kernelspec": {
   "display_name": "Python 3 (ipykernel)",
   "language": "python",
   "name": "python3"
  },
  "language_info": {
   "codemirror_mode": {
    "name": "ipython",
    "version": 3
   },
   "file_extension": ".py",
   "mimetype": "text/x-python",
   "name": "python",
   "nbconvert_exporter": "python",
   "pygments_lexer": "ipython3",
   "version": "3.10.2"
  }
 },
 "nbformat": 4,
 "nbformat_minor": 4
}
